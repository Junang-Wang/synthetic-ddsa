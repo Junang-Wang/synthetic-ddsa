{
 "cells": [
  {
   "cell_type": "markdown",
   "metadata": {},
   "source": [
    "### Use Pygalmesh to generate a sphere "
   ]
  },
  {
   "cell_type": "code",
   "execution_count": 11,
   "metadata": {},
   "outputs": [
    {
     "data": {
      "text/html": [
       "<pre style=\"white-space:pre;overflow-x:auto;line-height:normal;font-family:Menlo,'DejaVu Sans Mono',consolas,'Courier New',monospace\"><span style=\"color: #808000; text-decoration-color: #808000; font-weight: bold\">Warning:</span><span style=\"color: #808000; text-decoration-color: #808000\"> STL can only write triangle cells. Discarding tetra.</span>\n",
       "</pre>\n"
      ],
      "text/plain": [
       "\u001b[1;33mWarning:\u001b[0m\u001b[33m STL can only write triangle cells. Discarding tetra.\u001b[0m\n"
      ]
     },
     "metadata": {},
     "output_type": "display_data"
    }
   ],
   "source": [
    "import pygalmesh\n",
    "import numpy as np\n",
    "\n",
    "x_ = np.linspace(-1.0, 1.0, 50)\n",
    "y_ = np.linspace(-1.0, 1.0, 50)\n",
    "z_ = np.linspace(-1.0, 1.0, 50)\n",
    "x, y, z = np.meshgrid(x_, y_, z_)\n",
    "\n",
    "vol = np.empty((50, 50, 50), dtype=np.uint8)\n",
    "idx = x**2 + y**2 + z**2 < 0.5**2\n",
    "vol[idx] = 1\n",
    "vol[~idx] = 0\n",
    "\n",
    "voxel_size = (0.1, 0.1, 0.1)\n",
    "\n",
    "p_mesh = pygalmesh.generate_from_array(\n",
    "    vol, voxel_size, max_facet_distance=0.2, max_cell_circumradius=0.15\n",
    ")\n",
    "p_mesh.write(\"pygalmesh_sphere.stl\")"
   ]
  },
  {
   "cell_type": "markdown",
   "metadata": {},
   "source": [
    "### Use Pygalmesh to mesh a vascular"
   ]
  },
  {
   "cell_type": "code",
   "execution_count": 40,
   "metadata": {},
   "outputs": [
    {
     "data": {
      "text/html": [
       "<pre style=\"white-space:pre;overflow-x:auto;line-height:normal;font-family:Menlo,'DejaVu Sans Mono',consolas,'Courier New',monospace\"><span style=\"color: #808000; text-decoration-color: #808000; font-weight: bold\">Warning:</span><span style=\"color: #808000; text-decoration-color: #808000\"> STL can only write triangle cells. Discarding tetra.</span>\n",
       "</pre>\n"
      ],
      "text/plain": [
       "\u001b[1;33mWarning:\u001b[0m\u001b[33m STL can only write triangle cells. Discarding tetra.\u001b[0m\n"
      ]
     },
     "metadata": {},
     "output_type": "display_data"
    }
   ],
   "source": [
    "import os \n",
    "from skimage import io, measure\n",
    "from scipy import ndimage\n",
    "from stl import mesh\n",
    "import numpy as np\n",
    "from scipy.ndimage import gaussian_filter\n",
    "\n",
    "# path = '../vessels/volumes/Lnet_d20_dr12_epsilon9_iter13_SD500_v1_t0_512x512x280_nofluid.tiff'\n",
    "path = \"../vessels/volumes/Lnet_d35_dr20_epsilon10_iter8_SD500_v1_t0_512x512x280_nofluid.tiff\"\n",
    "\n",
    "vessel_v = io.imread(path)\n",
    "\n",
    "# # Smoothing\n",
    "# vessel_v = gaussian_filter(vessel_v, sigma=10)\n",
    "\n",
    "voxel_size = (0.1, 0.1, 0.1)\n",
    "\n",
    "p_mesh = pygalmesh.generate_from_array(\n",
    "    vessel_v, voxel_size, max_facet_distance= 0.2, max_cell_circumradius= 0.2\n",
    ")\n",
    "\n",
    "p_mesh.write(\"pygalmesh_vessel.stl\")"
   ]
  },
  {
   "cell_type": "markdown",
   "metadata": {},
   "source": [
    "### Use skimage measure to mesh a shpere"
   ]
  },
  {
   "cell_type": "code",
   "execution_count": 11,
   "metadata": {},
   "outputs": [],
   "source": [
    "import os \n",
    "from skimage import io, measure\n",
    "from scipy import ndimage\n",
    "from stl import mesh\n",
    "import numpy as np\n",
    "\n",
    "\n",
    "# vessel_v = ndimage.spline_filter(vessel_v, order=5)\n",
    "verts, faces, normals, values = measure.marching_cubes(vol, 0.5)\n",
    "\n",
    "obj_3d = mesh.Mesh(np.zeros(faces.shape[0], dtype=mesh.Mesh.dtype))\n",
    "for i, f in enumerate(faces):\n",
    "    obj_3d.vectors[i] = verts[f]\n",
    "obj_3d.save(\"shpere.stl\")"
   ]
  },
  {
   "cell_type": "markdown",
   "metadata": {},
   "source": [
    "### Use vedo to mesh"
   ]
  },
  {
   "cell_type": "code",
   "execution_count": 41,
   "metadata": {},
   "outputs": [
    {
     "name": "stderr",
     "output_type": "stream",
     "text": [
      "\u001b[0m\u001b[2m2024-05-09 14:04:33.862 (8719.819s) [    72164C607B80]   vtkSurfaceNets3D.cxx:2322  INFO| \u001b[0mExecuting Surface Nets 3D\u001b[0m\n",
      "\u001b[0m\u001b[2m2024-05-09 14:04:33.953 (8719.909s) [    72164C607B80]   vtkSurfaceNets3D.cxx:2394  INFO| \u001b[0mExtracted: 226697 points, 226742 quads\u001b[0m\n",
      "\u001b[0m\u001b[2m2024-05-09 14:04:33.953 (8719.909s) [    72164C607B80]   vtkSurfaceNets3D.cxx:1816  INFO| \u001b[0mSmoothing output\u001b[0m\n",
      "\u001b[0m\u001b[2m2024-05-09 14:04:33.953 (8719.909s) [    72164C607B80]vtkConstrainedSmoothing:448   INFO| \u001b[0mExecuting constrained smoothing filter\u001b[0m\n",
      "\u001b[0m\u001b[2m2024-05-09 14:04:33.996 (8719.952s) [    72164C607B80]   vtkSurfaceNets3D.cxx:2032  INFO| \u001b[0mTransforming output mesh type to: 1\u001b[0m\n",
      "\u001b[0m\u001b[2m2024-05-09 14:04:34.002 (8719.958s) [    72164C607B80]   vtkSurfaceNets3D.cxx:2447  INFO| \u001b[0mTriangulated to produce: 453484 triangles\u001b[0m\n",
      "\u001b[0m\u001b[2m2024-05-09 14:04:34.002 (8719.959s) [    72164C607B80]   vtkSurfaceNets3D.cxx:2322  INFO| \u001b[0mExecuting Surface Nets 3D\u001b[0m\n",
      "\u001b[0m\u001b[2m2024-05-09 14:04:34.096 (8720.052s) [    72164C607B80]   vtkSurfaceNets3D.cxx:2394  INFO| \u001b[0mExtracted: 226697 points, 226742 quads\u001b[0m\n",
      "\u001b[0m\u001b[2m2024-05-09 14:04:34.096 (8720.052s) [    72164C607B80]   vtkSurfaceNets3D.cxx:1816  INFO| \u001b[0mSmoothing output\u001b[0m\n",
      "\u001b[0m\u001b[2m2024-05-09 14:04:34.096 (8720.053s) [    72164C607B80]vtkConstrainedSmoothing:448   INFO| \u001b[0mExecuting constrained smoothing filter\u001b[0m\n",
      "\u001b[0m\u001b[2m2024-05-09 14:04:34.143 (8720.099s) [    72164C607B80]   vtkSurfaceNets3D.cxx:2032  INFO| \u001b[0mTransforming output mesh type to: 1\u001b[0m\n",
      "\u001b[0m\u001b[2m2024-05-09 14:04:34.149 (8720.105s) [    72164C607B80]   vtkSurfaceNets3D.cxx:2447  INFO| \u001b[0mTriangulated to produce: 453484 triangles\u001b[0m\n",
      "\u001b[0m\u001b[2m2024-05-09 14:04:34.154 (8720.111s) [    72164C607B80]   vtkSurfaceNets3D.cxx:2460  INFO| \u001b[0mSelected: 453484 cells\u001b[0m\n"
     ]
    },
    {
     "data": {
      "text/html": [
       "<table>\n",
       "<tr>\n",
       "<td>\n",
       "<img src='data:image/png;base64,iVBORw0KGgoAAAANSUhEUgAAAMgAAADICAIAAAAiOjnJAAACFElEQVR4nO3SwQ3AIBDAsNL9dz6WIEJC9gR5ZM3MB6f9twN4k7FIGIuEsUgYi4SxSBiLhLFIGIuEsUgYi4SxSBiLhLFIGIuEsUgYi4SxSBiLhLFIGIuEsUgYi4SxSBiLhLFIGIuEsUgYi4SxSBiLhLFIGIuEsUgYi4SxSBiLhLFIGIuEsUgYi4SxSBiLhLFIGIuEsUgYi4SxSBiLhLFIGIuEsUgYi4SxSBiLhLFIGIuEsUgYi4SxSBiLhLFIGIuEsUgYi4SxSBiLhLFIGIuEsUgYi4SxSBiLhLFIGIuEsUgYi4SxSBiLhLFIGIuEsUgYi4SxSBiLhLFIGIuEsUgYi4SxSBiLhLFIGIuEsUgYi4SxSBiLhLFIGIuEsUgYi4SxSBiLhLFIGIuEsUgYi4SxSBiLhLFIGIuEsUgYi4SxSBiLhLFIGIuEsUgYi4SxSBiLhLFIGIuEsUgYi4SxSBiLhLFIGIuEsUgYi4SxSBiLhLFIGIuEsUgYi4SxSBiLhLFIGIuEsUgYi4SxSBiLhLFIGIuEsUgYi4SxSBiLhLFIGIuEsUgYi4SxSBiLhLFIGIuEsUgYi4SxSBiLhLFIGIuEsUgYi4SxSBiLhLFIGIuEsUgYi4SxSBiLhLFIGIuEsUgYi4SxSBiLhLFIGIuEsUgYi4SxSBiLhLFIGIuEsUgYi4SxSBiLhLFIGIuEsUgYi4SxSBiLxAYhCgSN2aqNlwAAAABJRU5ErkJggg=='></img>\n",
       "</td>\n",
       "<td style='text-align: center; vertical-align: center;'><br/>\n",
       "<b> Mesh: &nbsp&nbsp</b><b><a href=\"https://vedo.embl.es/docs/vedo/mesh.html#Mesh\" target=\"_blank\">vedo.mesh.Mesh</a></b>\n",
       "<table>\n",
       "<tr><td><b> bounds </b> <br/> (x/y/z) </td><td>0.5000 ... 469.4<br/>15.57 ... 490.4<br/>0.5000 ... 261.4</td></tr>\n",
       "<tr><td><b> center of mass </b></td><td>(237, 250, 113)</td></tr>\n",
       "<tr><td><b> average size </b></td><td>159.348</td></tr>\n",
       "<tr><td><b> nr. points&nbsp/&nbspfaces </b></td><td>226697&nbsp/&nbsp453484</td></tr>\n",
       "\n",
       "<tr><td><b> cell data array </b></td><td>BoundaryLabels</td></tr>\n",
       "</table>\n",
       "</table>"
      ],
      "text/plain": [
       "<vedo.mesh.Mesh at 0x7215bcbbefe0>"
      ]
     },
     "execution_count": 41,
     "metadata": {},
     "output_type": "execute_result"
    }
   ],
   "source": [
    "# %matplotlib inline\n",
    "from vedo import dataurl, Plotter, Volume, show\n",
    "\n",
    "path = \"../vessels/volumes/Lnet_d35_dr20_epsilon10_iter8_SD500_v1_t0_512x512x280_nofluid.tiff\"\n",
    "\n",
    "# Load a mesh and show it\n",
    "vol = Volume(vessel_v)\n",
    "\n",
    "# m0 = vol.isosurface(flying_edges=False).normalize()\n",
    "isovalues = [0,255]\n",
    "m0 = vol.isosurface_discrete(isovalues, nsmooth=12)\n",
    "# m0.lw(1).c(\"violet\")\n",
    "\n",
    "#------------------------------------------------\n",
    "# Smooth the mesh\n",
    "m1 = m0.clone().smooth(niter=20, boundary=True)\n",
    "m1.color(\"lg\")\n",
    "\n",
    "plt = Plotter(N=2)\n",
    "plt.at(0).background(\"light blue\")  # set first renderer color\n",
    "plt.show(m0, \"Original Mesh:\")\n",
    "\n",
    "plt.at(1)\n",
    "plt.show(\"Mesh polygons are smoothed:\", m1, viewup=\"z\", zoom=1.5)\n",
    "m0.write('vedo_vascular.stl')\n",
    "# plt.interactive()"
   ]
  },
  {
   "cell_type": "code",
   "execution_count": 37,
   "metadata": {},
   "outputs": [
    {
     "name": "stdout",
     "output_type": "stream",
     "text": [
      "\u001b[7m\u001b[1m\u001b[36mvedo.volume.Volume at (0x5d67c3e3e570)                                     \u001b[0m\n",
      "\u001b[0m\u001b[36;1mname          : Volume\n",
      "filename      : ../vessels/volumes/Lnet_d35_dr20_epsilon10_iter8_SD500_v1_t0_512x512x280_nofluid.tiff\n",
      "dimensions    : [280 512 512]\n",
      "origin        : (0, 0, 0)\n",
      "center        : (139.500, 255.500, 255.500)\n",
      "spacing       : (1.00000, 1.00000, 1.00000)\n",
      "bounds        : x=(0, 279), y=(0, 511), z=(0, 511)\n",
      "memory size   : 70 MB\n",
      "scalar size   : 1 bytes (unsigned char)\n",
      "scalar range  : (0.0, 255.0)\u001b[0m\n"
     ]
    }
   ],
   "source": [
    "print(vol)"
   ]
  },
  {
   "cell_type": "code",
   "execution_count": null,
   "metadata": {},
   "outputs": [],
   "source": []
  }
 ],
 "metadata": {
  "kernelspec": {
   "display_name": "Python 3",
   "language": "python",
   "name": "python3"
  },
  "language_info": {
   "codemirror_mode": {
    "name": "ipython",
    "version": 3
   },
   "file_extension": ".py",
   "mimetype": "text/x-python",
   "name": "python",
   "nbconvert_exporter": "python",
   "pygments_lexer": "ipython3",
   "version": "3.10.13"
  }
 },
 "nbformat": 4,
 "nbformat_minor": 2
}
