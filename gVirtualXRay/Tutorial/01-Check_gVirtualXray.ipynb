{
 "cells": [
  {
   "cell_type": "code",
   "execution_count": 1,
   "metadata": {},
   "outputs": [
    {
     "name": "stderr",
     "output_type": "stream",
     "text": [
      "Tue Apr 23 12:01:54 2024 (WW) Spekpy is not installed, try Xpecgen instead.\n",
      "Tue Apr 23 12:01:54 2024 (WW) Xpecgen is not installed either.\n"
     ]
    }
   ],
   "source": [
    "from gvxrPython3 import gvxr"
   ]
  },
  {
   "cell_type": "markdown",
   "metadata": {},
   "source": [
    "gVirtualXray's source code is split into 3 components\n",
    "\n",
    "* Core: the C++ low-level programming interface. This is where all the core functionalities to simulate X-ray images are implemented.\n",
    "* SimpleGVXR: the C++ high-level programming interface. It is a subset of the core library. It also includes additional functionalities to create OpenGL contextes. It contains all we need to simulate X-ray images.\n",
    "* Wrappers: exposes SimpleGVXR to other programming languages, including Python 3, Octave, Java, C#, R, Tcl, GNU Octave, Perl and Ruby."
   ]
  },
  {
   "cell_type": "code",
   "execution_count": 2,
   "metadata": {},
   "outputs": [
    {
     "name": "stdout",
     "output_type": "stream",
     "text": [
      "gVirtualXRay core library (gvxr) 2.0.7 (2023-11-06T17:42:00) [Compiler: GNU g++] on Linux\n"
     ]
    }
   ],
   "source": [
    "print(gvxr.getVersionOfCoreGVXR())"
   ]
  },
  {
   "cell_type": "code",
   "execution_count": 3,
   "metadata": {},
   "outputs": [
    {
     "name": "stdout",
     "output_type": "stream",
     "text": [
      "SimpleGVXR 2.0.7 (2023-11-06T17:42:00) [Compiler: GNU g++] on Linux\n"
     ]
    }
   ],
   "source": [
    "print(gvxr.getVersionOfSimpleGVXR())"
   ]
  },
  {
   "cell_type": "code",
   "execution_count": null,
   "metadata": {},
   "outputs": [
    {
     "ename": "",
     "evalue": "",
     "output_type": "error",
     "traceback": [
      "\u001b[1;31m在当前单元格或上一个单元格中执行代码时 Kernel 崩溃。\n",
      "\u001b[1;31m请查看单元格中的代码，以确定故障的可能原因。\n",
      "\u001b[1;31m单击<a href='https://aka.ms/vscodeJupyterKernelCrash'>此处</a>了解详细信息。\n",
      "\u001b[1;31m有关更多详细信息，请查看 Jupyter <a href='command:jupyter.viewOutput'>log</a>。"
     ]
    }
   ],
   "source": [
    "gvxr.createNewContext(\"EGL\") # Create the OpenGL context using EGL (for Linux only, Window and Apple computers must use \"OPENGL\")"
   ]
  },
  {
   "cell_type": "code",
   "execution_count": null,
   "metadata": {},
   "outputs": [],
   "source": [
    "print(\"OpenGL vendor:\", gvxr.getOpenGlVendor())\n",
    "print(\"OpenGL renderer:\", gvxr.getOpenGlRenderer())\n",
    "print(\"OpenGL version:\", gvxr.getOpenGlVersion())"
   ]
  }
 ],
 "metadata": {
  "kernelspec": {
   "display_name": "Python 3",
   "language": "python",
   "name": "python3"
  },
  "language_info": {
   "codemirror_mode": {
    "name": "ipython",
    "version": 3
   },
   "file_extension": ".py",
   "mimetype": "text/x-python",
   "name": "python",
   "nbconvert_exporter": "python",
   "pygments_lexer": "ipython3",
   "version": "3.10.13"
  }
 },
 "nbformat": 4,
 "nbformat_minor": 2
}
